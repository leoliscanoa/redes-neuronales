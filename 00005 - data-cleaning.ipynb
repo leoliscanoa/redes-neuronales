{
 "cells": [
  {
   "metadata": {},
   "cell_type": "markdown",
   "source": "# DATA CLEANING - PYTHON AND PANDAS",
   "id": "d1872f0b96439bde"
  },
  {
   "metadata": {},
   "cell_type": "markdown",
   "source": [
    "## Información de las variables\n",
    "- **first_name**: Primer nombre del empleado.\n",
    "- **last_name**: Apellido del empleado.\n",
    "- **email**: Dirección de correo electrónico del empleado.\n",
    "- **gender**: Género del empleado (Masculino/Femenino).\n",
    "- **work_year**: Año en el que se registró el salario.\n",
    "- **job_category**: Categoría del trabajo (por ejemplo, IT, Marketing, Finanzas).\n",
    "- **job_title**: Título específico del trabajo (por ejemplo, Desarrollador de Software, Analista de Negocios).\n",
    "- **salary_currency**: Moneda en la que se expresa el salario.\n",
    "- **salary**: Salario anual del empleado.\n",
    "- **employee_residence**: País de residencia del empleado.\n",
    "- **experience_level**: Nivel de experiencia del empleado (por ejemplo, Principiante, Intermedio, Ejecutivo).\n",
    "- **employment_type**: Tipo de empleo (por ejemplo, Tiempo completo, Medio tiempo, Contrato).\n",
    "- **work_setting**: Configuración del lugar de trabajo (por ejemplo, Remoto, Oficina, Presencial).\n",
    "- **company_size**: Tamaño de la empresa según la cantidad de empleados (por ejemplo, Pequeña (1-50 empleados), Mediana (51-500 empleados), Grande (501+ empleados)).\n"
   ],
   "id": "82d22d66cc56bdf3"
  },
  {
   "metadata": {
    "ExecuteTime": {
     "end_time": "2024-08-15T02:20:11.770829Z",
     "start_time": "2024-08-15T02:20:11.767922Z"
    }
   },
   "cell_type": "code",
   "source": [
    "# Importación de librerias\n",
    "!{sys.executable} -m pip install pandas seaborn\n",
    "import pandas as pd\n",
    "import seaborn as sns"
   ],
   "id": "83f61db79a347d49",
   "outputs": [],
   "execution_count": 1
  },
  {
   "metadata": {
    "ExecuteTime": {
     "end_time": "2024-08-15T02:20:11.806224Z",
     "start_time": "2024-08-15T02:20:11.785109Z"
    }
   },
   "cell_type": "code",
   "source": [
    "# Analicemos el set de datos\n",
    "data = pd.read_csv('./data/jobs_salary_example.csv')\n",
    "data.head()"
   ],
   "id": "bbc8e06f137df846",
   "outputs": [
    {
     "data": {
      "text/plain": [
       "  first_name last_name                      email  gender  work_year  \\\n",
       "0     Cornie   Seymour        cseymour0@house.gov    Male       2023   \n",
       "1    Loretta   Camocke     lcamocke1@illinois.edu  Female       2023   \n",
       "2       Edee    Hammor      ehammor2@china.com.cn  Female       2023   \n",
       "3   Hercules    Heater          hheater3@etsy.com    Male       2023   \n",
       "4      Gusta    Heater  gheater4@biblegateway.com  Female       2023   \n",
       "\n",
       "  job_category             job_title salary_currency    salary  \\\n",
       "0           IT  Software Development             USD  48197.10   \n",
       "1           IT                   DEV             USD  55384.54   \n",
       "2           IT      Business Analyst             USD  71342.56   \n",
       "3           IT                   DEV             USD  95065.80   \n",
       "4           IT                    PM             USD  82490.00   \n",
       "\n",
       "  employee_residence experience_level employment_type work_setting  \\\n",
       "0           Colombia        Executive        Contract       Remote   \n",
       "1           Colombia        Mid-level       Part-time       Office   \n",
       "2             Mexico      Entry-level       Full-time      On-site   \n",
       "3           Colombia        Mid-level       Part-time       Office   \n",
       "4             Mexico        Executive       Full-time       Office   \n",
       "\n",
       "                company_size  \n",
       "0  Medium (51-500 employees)  \n",
       "1     Large (501+ employees)  \n",
       "2  Medium (51-500 employees)  \n",
       "3     Small (1-50 employees)  \n",
       "4     Large (501+ employees)  "
      ],
      "text/html": [
       "<div>\n",
       "<style scoped>\n",
       "    .dataframe tbody tr th:only-of-type {\n",
       "        vertical-align: middle;\n",
       "    }\n",
       "\n",
       "    .dataframe tbody tr th {\n",
       "        vertical-align: top;\n",
       "    }\n",
       "\n",
       "    .dataframe thead th {\n",
       "        text-align: right;\n",
       "    }\n",
       "</style>\n",
       "<table border=\"1\" class=\"dataframe\">\n",
       "  <thead>\n",
       "    <tr style=\"text-align: right;\">\n",
       "      <th></th>\n",
       "      <th>first_name</th>\n",
       "      <th>last_name</th>\n",
       "      <th>email</th>\n",
       "      <th>gender</th>\n",
       "      <th>work_year</th>\n",
       "      <th>job_category</th>\n",
       "      <th>job_title</th>\n",
       "      <th>salary_currency</th>\n",
       "      <th>salary</th>\n",
       "      <th>employee_residence</th>\n",
       "      <th>experience_level</th>\n",
       "      <th>employment_type</th>\n",
       "      <th>work_setting</th>\n",
       "      <th>company_size</th>\n",
       "    </tr>\n",
       "  </thead>\n",
       "  <tbody>\n",
       "    <tr>\n",
       "      <th>0</th>\n",
       "      <td>Cornie</td>\n",
       "      <td>Seymour</td>\n",
       "      <td>cseymour0@house.gov</td>\n",
       "      <td>Male</td>\n",
       "      <td>2023</td>\n",
       "      <td>IT</td>\n",
       "      <td>Software Development</td>\n",
       "      <td>USD</td>\n",
       "      <td>48197.10</td>\n",
       "      <td>Colombia</td>\n",
       "      <td>Executive</td>\n",
       "      <td>Contract</td>\n",
       "      <td>Remote</td>\n",
       "      <td>Medium (51-500 employees)</td>\n",
       "    </tr>\n",
       "    <tr>\n",
       "      <th>1</th>\n",
       "      <td>Loretta</td>\n",
       "      <td>Camocke</td>\n",
       "      <td>lcamocke1@illinois.edu</td>\n",
       "      <td>Female</td>\n",
       "      <td>2023</td>\n",
       "      <td>IT</td>\n",
       "      <td>DEV</td>\n",
       "      <td>USD</td>\n",
       "      <td>55384.54</td>\n",
       "      <td>Colombia</td>\n",
       "      <td>Mid-level</td>\n",
       "      <td>Part-time</td>\n",
       "      <td>Office</td>\n",
       "      <td>Large (501+ employees)</td>\n",
       "    </tr>\n",
       "    <tr>\n",
       "      <th>2</th>\n",
       "      <td>Edee</td>\n",
       "      <td>Hammor</td>\n",
       "      <td>ehammor2@china.com.cn</td>\n",
       "      <td>Female</td>\n",
       "      <td>2023</td>\n",
       "      <td>IT</td>\n",
       "      <td>Business Analyst</td>\n",
       "      <td>USD</td>\n",
       "      <td>71342.56</td>\n",
       "      <td>Mexico</td>\n",
       "      <td>Entry-level</td>\n",
       "      <td>Full-time</td>\n",
       "      <td>On-site</td>\n",
       "      <td>Medium (51-500 employees)</td>\n",
       "    </tr>\n",
       "    <tr>\n",
       "      <th>3</th>\n",
       "      <td>Hercules</td>\n",
       "      <td>Heater</td>\n",
       "      <td>hheater3@etsy.com</td>\n",
       "      <td>Male</td>\n",
       "      <td>2023</td>\n",
       "      <td>IT</td>\n",
       "      <td>DEV</td>\n",
       "      <td>USD</td>\n",
       "      <td>95065.80</td>\n",
       "      <td>Colombia</td>\n",
       "      <td>Mid-level</td>\n",
       "      <td>Part-time</td>\n",
       "      <td>Office</td>\n",
       "      <td>Small (1-50 employees)</td>\n",
       "    </tr>\n",
       "    <tr>\n",
       "      <th>4</th>\n",
       "      <td>Gusta</td>\n",
       "      <td>Heater</td>\n",
       "      <td>gheater4@biblegateway.com</td>\n",
       "      <td>Female</td>\n",
       "      <td>2023</td>\n",
       "      <td>IT</td>\n",
       "      <td>PM</td>\n",
       "      <td>USD</td>\n",
       "      <td>82490.00</td>\n",
       "      <td>Mexico</td>\n",
       "      <td>Executive</td>\n",
       "      <td>Full-time</td>\n",
       "      <td>Office</td>\n",
       "      <td>Large (501+ employees)</td>\n",
       "    </tr>\n",
       "  </tbody>\n",
       "</table>\n",
       "</div>"
      ]
     },
     "execution_count": 2,
     "metadata": {},
     "output_type": "execute_result"
    }
   ],
   "execution_count": 2
  },
  {
   "metadata": {
    "ExecuteTime": {
     "end_time": "2024-08-15T02:20:24.579416Z",
     "start_time": "2024-08-15T02:20:24.572450Z"
    }
   },
   "cell_type": "code",
   "source": [
    "# Revisemos cuantos registros en total tenemos y cuantas características\n",
    "data.shape"
   ],
   "id": "dc2964bb79643cca",
   "outputs": [
    {
     "data": {
      "text/plain": [
       "(4104, 14)"
      ]
     },
     "execution_count": 3,
     "metadata": {},
     "output_type": "execute_result"
    }
   ],
   "execution_count": 3
  },
  {
   "metadata": {
    "ExecuteTime": {
     "end_time": "2024-08-15T02:20:26.391483Z",
     "start_time": "2024-08-15T02:20:26.367079Z"
    }
   },
   "cell_type": "code",
   "source": [
    "# Analicemos cada tipo de característica de nuestro set de datos\n",
    "data.info()"
   ],
   "id": "ff03d840c6204bdc",
   "outputs": [
    {
     "name": "stdout",
     "output_type": "stream",
     "text": [
      "<class 'pandas.core.frame.DataFrame'>\n",
      "RangeIndex: 4104 entries, 0 to 4103\n",
      "Data columns (total 14 columns):\n",
      " #   Column              Non-Null Count  Dtype  \n",
      "---  ------              --------------  -----  \n",
      " 0   first_name          4104 non-null   object \n",
      " 1   last_name           4104 non-null   object \n",
      " 2   email               4104 non-null   object \n",
      " 3   gender              4038 non-null   object \n",
      " 4   work_year           4104 non-null   int64  \n",
      " 5   job_category        4104 non-null   object \n",
      " 6   job_title           4054 non-null   object \n",
      " 7   salary_currency     4104 non-null   object \n",
      " 8   salary              4036 non-null   float64\n",
      " 9   employee_residence  4104 non-null   object \n",
      " 10  experience_level    4104 non-null   object \n",
      " 11  employment_type     4104 non-null   object \n",
      " 12  work_setting        4104 non-null   object \n",
      " 13  company_size        4104 non-null   object \n",
      "dtypes: float64(1), int64(1), object(12)\n",
      "memory usage: 449.0+ KB\n"
     ]
    }
   ],
   "execution_count": 4
  },
  {
   "metadata": {},
   "cell_type": "markdown",
   "source": [
    "# Limpieza de datos\n",
    "- Datos faltantes\n",
    "- Columnas irrelevantes\n",
    "- Registros duplicadas\n",
    "- Valores extremos\n",
    "- Errores tipográficos"
   ],
   "id": "5401afeaa56f1730"
  },
  {
   "metadata": {},
   "cell_type": "markdown",
   "source": [
    "## Datos faltantes\n",
    "Podemos tomar varias opciones\n",
    "- Eliminar todo el registro\n",
    "- Interpolar datos\n",
    "- Rellenar los datos con la media\n",
    "\n",
    "En nuestro caso, aplicaremos la media de la columna **salary** por ser una característica numérica y para las características **gender** y **job_title** colocaremos 'Not-specified'"
   ],
   "id": "6b10e938cb697200"
  },
  {
   "metadata": {
    "ExecuteTime": {
     "end_time": "2024-08-15T02:20:31.035772Z",
     "start_time": "2024-08-15T02:20:31.010905Z"
    }
   },
   "cell_type": "code",
   "source": [
    "data[['salary']] = data[['salary']].fillna(value=data['salary'].mean())\n",
    "data[['gender']] = data[['gender']].fillna(value='Not-specified')\n",
    "data[['job_title']] = data[['job_title']].fillna(value='Not-specified')\n",
    "data.info()"
   ],
   "id": "20f59082b503687f",
   "outputs": [
    {
     "name": "stdout",
     "output_type": "stream",
     "text": [
      "<class 'pandas.core.frame.DataFrame'>\n",
      "RangeIndex: 4104 entries, 0 to 4103\n",
      "Data columns (total 14 columns):\n",
      " #   Column              Non-Null Count  Dtype  \n",
      "---  ------              --------------  -----  \n",
      " 0   first_name          4104 non-null   object \n",
      " 1   last_name           4104 non-null   object \n",
      " 2   email               4104 non-null   object \n",
      " 3   gender              4104 non-null   object \n",
      " 4   work_year           4104 non-null   int64  \n",
      " 5   job_category        4104 non-null   object \n",
      " 6   job_title           4104 non-null   object \n",
      " 7   salary_currency     4104 non-null   object \n",
      " 8   salary              4104 non-null   float64\n",
      " 9   employee_residence  4104 non-null   object \n",
      " 10  experience_level    4104 non-null   object \n",
      " 11  employment_type     4104 non-null   object \n",
      " 12  work_setting        4104 non-null   object \n",
      " 13  company_size        4104 non-null   object \n",
      "dtypes: float64(1), int64(1), object(12)\n",
      "memory usage: 449.0+ KB\n"
     ]
    }
   ],
   "execution_count": 5
  },
  {
   "metadata": {},
   "cell_type": "markdown",
   "source": [
    "Para eliminar los registros se puede realizar con la función\n",
    "$$data.dropna(inplace=True)$$"
   ],
   "id": "bc8163f4460a20fc"
  },
  {
   "metadata": {},
   "cell_type": "markdown",
   "source": [
    "## Columnas irrelevantes\n",
    "Una columna irrelevante puede ser:\n",
    "\n",
    "- Una columna que no contiene información relevante para el problema que queremos resolver.\n",
    "- Una columna categórica con un único nivel.\n",
    "- Una columna numérica pero con un solo valor o con una desviación estándar igual a cero.\n",
    "- Columnas con información redundante"
   ],
   "id": "aa484f36dfbf9ad9"
  },
  {
   "metadata": {},
   "cell_type": "markdown",
   "source": "### Características numéricas",
   "id": "66073abebcc51419"
  },
  {
   "metadata": {
    "ExecuteTime": {
     "end_time": "2024-08-15T02:20:37.999442Z",
     "start_time": "2024-08-15T02:20:37.981984Z"
    }
   },
   "cell_type": "code",
   "source": [
    "# Veamos de la información de las columnas numéricas\n",
    "data.describe()"
   ],
   "id": "18ad7355c7d9cb98",
   "outputs": [
    {
     "data": {
      "text/plain": [
       "       work_year         salary\n",
       "count     4104.0    4104.000000\n",
       "mean      2023.0   50618.690751\n",
       "std          0.0   37790.696295\n",
       "min       2023.0     -92.830000\n",
       "25%       2023.0   25271.142500\n",
       "50%       2023.0   50240.180000\n",
       "75%       2023.0   74626.837500\n",
       "max       2023.0  952070.470000"
      ],
      "text/html": [
       "<div>\n",
       "<style scoped>\n",
       "    .dataframe tbody tr th:only-of-type {\n",
       "        vertical-align: middle;\n",
       "    }\n",
       "\n",
       "    .dataframe tbody tr th {\n",
       "        vertical-align: top;\n",
       "    }\n",
       "\n",
       "    .dataframe thead th {\n",
       "        text-align: right;\n",
       "    }\n",
       "</style>\n",
       "<table border=\"1\" class=\"dataframe\">\n",
       "  <thead>\n",
       "    <tr style=\"text-align: right;\">\n",
       "      <th></th>\n",
       "      <th>work_year</th>\n",
       "      <th>salary</th>\n",
       "    </tr>\n",
       "  </thead>\n",
       "  <tbody>\n",
       "    <tr>\n",
       "      <th>count</th>\n",
       "      <td>4104.0</td>\n",
       "      <td>4104.000000</td>\n",
       "    </tr>\n",
       "    <tr>\n",
       "      <th>mean</th>\n",
       "      <td>2023.0</td>\n",
       "      <td>50618.690751</td>\n",
       "    </tr>\n",
       "    <tr>\n",
       "      <th>std</th>\n",
       "      <td>0.0</td>\n",
       "      <td>37790.696295</td>\n",
       "    </tr>\n",
       "    <tr>\n",
       "      <th>min</th>\n",
       "      <td>2023.0</td>\n",
       "      <td>-92.830000</td>\n",
       "    </tr>\n",
       "    <tr>\n",
       "      <th>25%</th>\n",
       "      <td>2023.0</td>\n",
       "      <td>25271.142500</td>\n",
       "    </tr>\n",
       "    <tr>\n",
       "      <th>50%</th>\n",
       "      <td>2023.0</td>\n",
       "      <td>50240.180000</td>\n",
       "    </tr>\n",
       "    <tr>\n",
       "      <th>75%</th>\n",
       "      <td>2023.0</td>\n",
       "      <td>74626.837500</td>\n",
       "    </tr>\n",
       "    <tr>\n",
       "      <th>max</th>\n",
       "      <td>2023.0</td>\n",
       "      <td>952070.470000</td>\n",
       "    </tr>\n",
       "  </tbody>\n",
       "</table>\n",
       "</div>"
      ]
     },
     "execution_count": 6,
     "metadata": {},
     "output_type": "execute_result"
    }
   ],
   "execution_count": 6
  },
  {
   "metadata": {},
   "cell_type": "markdown",
   "source": [
    "#### Análisis\n",
    "- La característica **work_year** vemos que tenemos un solo valor, por lo cual no es una columna que aporte una diversidad de datos que contribuyan a nuestro dataset\n",
    "- La característica **salary** existe un valor negativo *-92.83* y un valor máximo de *952070.47* que puede ser considerado como un **outlier**"
   ],
   "id": "ba95bc6fbb7f8fe5"
  },
  {
   "metadata": {
    "ExecuteTime": {
     "end_time": "2024-08-15T02:20:52.772838Z",
     "start_time": "2024-08-15T02:20:52.743458Z"
    }
   },
   "cell_type": "code",
   "source": [
    "# Eliminamos la columna work_year\n",
    "data.drop('work_year', axis=1, inplace=True)\n",
    "data.head()"
   ],
   "id": "edc0f9c99c99fcc8",
   "outputs": [
    {
     "data": {
      "text/plain": [
       "  first_name last_name                      email  gender job_category  \\\n",
       "0     Cornie   Seymour        cseymour0@house.gov    Male           IT   \n",
       "1    Loretta   Camocke     lcamocke1@illinois.edu  Female           IT   \n",
       "2       Edee    Hammor      ehammor2@china.com.cn  Female           IT   \n",
       "3   Hercules    Heater          hheater3@etsy.com    Male           IT   \n",
       "4      Gusta    Heater  gheater4@biblegateway.com  Female           IT   \n",
       "\n",
       "              job_title salary_currency    salary employee_residence  \\\n",
       "0  Software Development             USD  48197.10           Colombia   \n",
       "1                   DEV             USD  55384.54           Colombia   \n",
       "2      Business Analyst             USD  71342.56             Mexico   \n",
       "3                   DEV             USD  95065.80           Colombia   \n",
       "4                    PM             USD  82490.00             Mexico   \n",
       "\n",
       "  experience_level employment_type work_setting               company_size  \n",
       "0        Executive        Contract       Remote  Medium (51-500 employees)  \n",
       "1        Mid-level       Part-time       Office     Large (501+ employees)  \n",
       "2      Entry-level       Full-time      On-site  Medium (51-500 employees)  \n",
       "3        Mid-level       Part-time       Office     Small (1-50 employees)  \n",
       "4        Executive       Full-time       Office     Large (501+ employees)  "
      ],
      "text/html": [
       "<div>\n",
       "<style scoped>\n",
       "    .dataframe tbody tr th:only-of-type {\n",
       "        vertical-align: middle;\n",
       "    }\n",
       "\n",
       "    .dataframe tbody tr th {\n",
       "        vertical-align: top;\n",
       "    }\n",
       "\n",
       "    .dataframe thead th {\n",
       "        text-align: right;\n",
       "    }\n",
       "</style>\n",
       "<table border=\"1\" class=\"dataframe\">\n",
       "  <thead>\n",
       "    <tr style=\"text-align: right;\">\n",
       "      <th></th>\n",
       "      <th>first_name</th>\n",
       "      <th>last_name</th>\n",
       "      <th>email</th>\n",
       "      <th>gender</th>\n",
       "      <th>job_category</th>\n",
       "      <th>job_title</th>\n",
       "      <th>salary_currency</th>\n",
       "      <th>salary</th>\n",
       "      <th>employee_residence</th>\n",
       "      <th>experience_level</th>\n",
       "      <th>employment_type</th>\n",
       "      <th>work_setting</th>\n",
       "      <th>company_size</th>\n",
       "    </tr>\n",
       "  </thead>\n",
       "  <tbody>\n",
       "    <tr>\n",
       "      <th>0</th>\n",
       "      <td>Cornie</td>\n",
       "      <td>Seymour</td>\n",
       "      <td>cseymour0@house.gov</td>\n",
       "      <td>Male</td>\n",
       "      <td>IT</td>\n",
       "      <td>Software Development</td>\n",
       "      <td>USD</td>\n",
       "      <td>48197.10</td>\n",
       "      <td>Colombia</td>\n",
       "      <td>Executive</td>\n",
       "      <td>Contract</td>\n",
       "      <td>Remote</td>\n",
       "      <td>Medium (51-500 employees)</td>\n",
       "    </tr>\n",
       "    <tr>\n",
       "      <th>1</th>\n",
       "      <td>Loretta</td>\n",
       "      <td>Camocke</td>\n",
       "      <td>lcamocke1@illinois.edu</td>\n",
       "      <td>Female</td>\n",
       "      <td>IT</td>\n",
       "      <td>DEV</td>\n",
       "      <td>USD</td>\n",
       "      <td>55384.54</td>\n",
       "      <td>Colombia</td>\n",
       "      <td>Mid-level</td>\n",
       "      <td>Part-time</td>\n",
       "      <td>Office</td>\n",
       "      <td>Large (501+ employees)</td>\n",
       "    </tr>\n",
       "    <tr>\n",
       "      <th>2</th>\n",
       "      <td>Edee</td>\n",
       "      <td>Hammor</td>\n",
       "      <td>ehammor2@china.com.cn</td>\n",
       "      <td>Female</td>\n",
       "      <td>IT</td>\n",
       "      <td>Business Analyst</td>\n",
       "      <td>USD</td>\n",
       "      <td>71342.56</td>\n",
       "      <td>Mexico</td>\n",
       "      <td>Entry-level</td>\n",
       "      <td>Full-time</td>\n",
       "      <td>On-site</td>\n",
       "      <td>Medium (51-500 employees)</td>\n",
       "    </tr>\n",
       "    <tr>\n",
       "      <th>3</th>\n",
       "      <td>Hercules</td>\n",
       "      <td>Heater</td>\n",
       "      <td>hheater3@etsy.com</td>\n",
       "      <td>Male</td>\n",
       "      <td>IT</td>\n",
       "      <td>DEV</td>\n",
       "      <td>USD</td>\n",
       "      <td>95065.80</td>\n",
       "      <td>Colombia</td>\n",
       "      <td>Mid-level</td>\n",
       "      <td>Part-time</td>\n",
       "      <td>Office</td>\n",
       "      <td>Small (1-50 employees)</td>\n",
       "    </tr>\n",
       "    <tr>\n",
       "      <th>4</th>\n",
       "      <td>Gusta</td>\n",
       "      <td>Heater</td>\n",
       "      <td>gheater4@biblegateway.com</td>\n",
       "      <td>Female</td>\n",
       "      <td>IT</td>\n",
       "      <td>PM</td>\n",
       "      <td>USD</td>\n",
       "      <td>82490.00</td>\n",
       "      <td>Mexico</td>\n",
       "      <td>Executive</td>\n",
       "      <td>Full-time</td>\n",
       "      <td>Office</td>\n",
       "      <td>Large (501+ employees)</td>\n",
       "    </tr>\n",
       "  </tbody>\n",
       "</table>\n",
       "</div>"
      ]
     },
     "execution_count": 7,
     "metadata": {},
     "output_type": "execute_result"
    }
   ],
   "execution_count": 7
  },
  {
   "metadata": {},
   "cell_type": "markdown",
   "source": "### Características categóricas",
   "id": "35e61297a0f23d51"
  },
  {
   "metadata": {
    "ExecuteTime": {
     "end_time": "2024-08-15T02:20:56.362120Z",
     "start_time": "2024-08-15T02:20:56.339294Z"
    }
   },
   "cell_type": "code",
   "source": [
    "# Analicemos si nuestras variables categóricas tienen un solo nivel\n",
    "categorical_features_unique = []\n",
    "for col in data.columns:\n",
    "    if data[col].dtype == 'object' and data[col].nunique() <= 1:\n",
    "        categorical_features_unique.append(col)\n",
    "categorical_features_unique"
   ],
   "id": "c133e8b211cfb26b",
   "outputs": [
    {
     "data": {
      "text/plain": [
       "['job_category', 'salary_currency']"
      ]
     },
     "execution_count": 8,
     "metadata": {},
     "output_type": "execute_result"
    }
   ],
   "execution_count": 8
  },
  {
   "metadata": {},
   "cell_type": "markdown",
   "source": [
    "#### Análisis\n",
    "Tenemos dos características con un solo nivel, por lo cual serán eliminadas de nuestro dataset\n",
    "- *job_category*\n",
    "- *salary_currency*\n",
    "\n",
    "Adicionalmente, existen tres columnas que no nos aportan información genérica a nuestro dataset\n",
    "- *first_name*\n",
    "- *last_name*\n",
    "- *email*"
   ],
   "id": "60f726db4eeaea2b"
  },
  {
   "metadata": {
    "ExecuteTime": {
     "end_time": "2024-08-15T02:21:17.954642Z",
     "start_time": "2024-08-15T02:21:17.945788Z"
    }
   },
   "cell_type": "code",
   "source": [
    "data.drop(columns=categorical_features_unique, inplace=True)\n",
    "data.drop(columns=['first_name','last_name','email'], inplace=True)\n",
    "data.shape"
   ],
   "id": "ac2ff51de1916ea4",
   "outputs": [
    {
     "data": {
      "text/plain": [
       "(4104, 8)"
      ]
     },
     "execution_count": 9,
     "metadata": {},
     "output_type": "execute_result"
    }
   ],
   "execution_count": 9
  },
  {
   "metadata": {},
   "cell_type": "markdown",
   "source": [
    "## Registros duplicados\n",
    "Previamente, vimos que nuestro set de datos contiene un total del 4104 registros\n",
    "\n",
    "Veamos si estos se repiten"
   ],
   "id": "89777f0ac9d93ba"
  },
  {
   "metadata": {
    "ExecuteTime": {
     "end_time": "2024-08-15T02:21:21.568780Z",
     "start_time": "2024-08-15T02:21:21.549922Z"
    }
   },
   "cell_type": "code",
   "source": [
    "data.drop_duplicates(inplace=True)\n",
    "data.shape"
   ],
   "id": "8206ed6a9b1f5289",
   "outputs": [
    {
     "data": {
      "text/plain": [
       "(4009, 8)"
      ]
     },
     "execution_count": 10,
     "metadata": {},
     "output_type": "execute_result"
    }
   ],
   "execution_count": 10
  },
  {
   "metadata": {},
   "cell_type": "markdown",
   "source": [
    "## Valores extremos\n",
    "Para analizar los outliers crearemos gráficas de tipo boxplot para analizar los datos de manera visual"
   ],
   "id": "3fea6cee31b93d6"
  },
  {
   "metadata": {
    "ExecuteTime": {
     "end_time": "2024-08-15T02:21:23.895805Z",
     "start_time": "2024-08-15T02:21:23.791803Z"
    }
   },
   "cell_type": "code",
   "source": [
    "# Analicemos la característica salary\n",
    "sns.boxplot(data['salary'])"
   ],
   "id": "4b3d9dc5645a50ca",
   "outputs": [
    {
     "data": {
      "text/plain": [
       "<Axes: ylabel='salary'>"
      ]
     },
     "execution_count": 11,
     "metadata": {},
     "output_type": "execute_result"
    },
    {
     "data": {
      "text/plain": [
       "<Figure size 640x480 with 1 Axes>"
      ],
      "image/png": "[encoded data removed]"
     },
     "metadata": {},
     "output_type": "display_data"
    }
   ],
   "execution_count": 11
  },
  {
   "metadata": {
    "ExecuteTime": {
     "end_time": "2024-08-15T02:21:32.959827Z",
     "start_time": "2024-08-15T02:21:32.947600Z"
    }
   },
   "cell_type": "code",
   "source": [
    "# Efectivamente, tenemos varios valores muy por fuera de la distribución de nuestro dataset\n",
    "# y pueden ser considerados como outliers, por lo cual serán eliminados de nuestro dataset en conjunto con cualquier valor negativo\n",
    "data = data[data['salary']>0]\n",
    "data = data[data['salary']<100000.00]\n",
    "data.shape"
   ],
   "id": "4cc79973b9d4777e",
   "outputs": [
    {
     "data": {
      "text/plain": [
       "(4004, 8)"
      ]
     },
     "execution_count": 12,
     "metadata": {},
     "output_type": "execute_result"
    }
   ],
   "execution_count": 12
  },
  {
   "metadata": {},
   "cell_type": "markdown",
   "source": "## Errores tipográficos",
   "id": "12c90902886911a6"
  },
  {
   "metadata": {
    "ExecuteTime": {
     "end_time": "2024-08-15T02:21:35.814132Z",
     "start_time": "2024-08-15T02:21:35.794962Z"
    }
   },
   "cell_type": "code",
   "source": "data.info()",
   "id": "d9c3836818be2de",
   "outputs": [
    {
     "name": "stdout",
     "output_type": "stream",
     "text": [
      "<class 'pandas.core.frame.DataFrame'>\n",
      "Index: 4004 entries, 0 to 4050\n",
      "Data columns (total 8 columns):\n",
      " #   Column              Non-Null Count  Dtype  \n",
      "---  ------              --------------  -----  \n",
      " 0   gender              4004 non-null   object \n",
      " 1   job_title           4004 non-null   object \n",
      " 2   salary              4004 non-null   float64\n",
      " 3   employee_residence  4004 non-null   object \n",
      " 4   experience_level    4004 non-null   object \n",
      " 5   employment_type     4004 non-null   object \n",
      " 6   work_setting        4004 non-null   object \n",
      " 7   company_size        4004 non-null   object \n",
      "dtypes: float64(1), object(7)\n",
      "memory usage: 281.5+ KB\n"
     ]
    }
   ],
   "execution_count": 13
  },
  {
   "metadata": {
    "ExecuteTime": {
     "end_time": "2024-08-15T02:21:39.408440Z",
     "start_time": "2024-08-15T02:21:39.403139Z"
    }
   },
   "cell_type": "code",
   "source": [
    "# Veamos los subniveles de nuestras características categóricas\n",
    "categorical_features = []\n",
    "for col in data.columns.tolist():\n",
    "    if data[col].dtype == 'object':\n",
    "        categorical_features.append(col)\n",
    "for col in categorical_features:\n",
    "    print(f'Column: {col}')\n",
    "    print(f'Unique values: {data[col].unique().tolist()}')"
   ],
   "id": "12b09a77ca5bd3fa",
   "outputs": [
    {
     "name": "stdout",
     "output_type": "stream",
     "text": [
      "Column: gender\n",
      "Unique values: ['Male', 'Female', 'Non-binary', 'Polygender', 'Agender', 'Bigender', 'Genderqueer', 'Genderfluid', 'Not-specified']\n",
      "Column: job_title\n",
      "Unique values: ['Software Development', 'DEV', 'Business Analyst', 'PM', 'IT Support', 'Database Admin', 'BA', 'Data Engineering', 'Data Science', 'Not-specified']\n",
      "Column: employee_residence\n",
      "Unique values: ['Colombia', 'Mexico', 'Ecuador', 'Venezuela', 'Chile']\n",
      "Column: experience_level\n",
      "Unique values: ['Executive', 'Mid-level', 'Entry-level', 'Senior-level']\n",
      "Column: employment_type\n",
      "Unique values: ['Contract', 'Part-time', 'Full-time']\n",
      "Column: work_setting\n",
      "Unique values: ['Remote', 'Office', 'On-site', 'Hybrid']\n",
      "Column: company_size\n",
      "Unique values: ['Medium (51-500 employees)', 'Large (501+ employees)', 'Small (1-50 employees)']\n"
     ]
    }
   ],
   "execution_count": 14
  },
  {
   "metadata": {},
   "cell_type": "markdown",
   "source": [
    "### Análisis\n",
    "- La característica job_title tiene trabajos que son iguales solo que referenciados por sus siglas, estandarizaremos a dejar el nombre completo\n",
    "- La característica work_setting On-site es igual a Office\n",
    "\n",
    "Realizaremos los siguientes ajustes\n",
    "- **job_title**:\n",
    "    - 'DEV' -> 'Software Development'\n",
    "    - 'BA' -> 'Business Analyst'\n",
    "    - 'PM' -> 'Project Manager'\n",
    "- **work_setting**:\n",
    "    - 'On-site' -> 'Office'"
   ],
   "id": "e02227a9addd124e"
  },
  {
   "metadata": {
    "ExecuteTime": {
     "end_time": "2024-08-15T02:21:47.338578Z",
     "start_time": "2024-08-15T02:21:47.311624Z"
    }
   },
   "cell_type": "code",
   "source": [
    "# Ajustemos la característica job_title\n",
    "data['job_title'] = data['job_title'].str.replace('DEV','Software Development',regex=False)\n",
    "data['job_title'] = data['job_title'].str.replace('BA','Business Analyst',regex=False)\n",
    "data['job_title'] = data['job_title'].str.replace('PM','Project Manager',regex=False)\n",
    "# Ajustemos la característica work_setting\n",
    "data['work_setting'] = data['work_setting'].str.replace('On-site','Office',regex=False)\n",
    "# Revisamos nuevamente los niveles de cada característica\n",
    "for col in categorical_features:\n",
    "    print(f'Column: {col}')\n",
    "    print(f'Unique values: {data[col].unique().tolist()}')"
   ],
   "id": "b6092a0636d67e1c",
   "outputs": [
    {
     "name": "stdout",
     "output_type": "stream",
     "text": [
      "Column: gender\n",
      "Unique values: ['Male', 'Female', 'Non-binary', 'Polygender', 'Agender', 'Bigender', 'Genderqueer', 'Genderfluid', 'Not-specified']\n",
      "Column: job_title\n",
      "Unique values: ['Software Development', 'Business Analyst', 'Project Manager', 'IT Support', 'Database Admin', 'Data Engineering', 'Data Science', 'Not-specified']\n",
      "Column: employee_residence\n",
      "Unique values: ['Colombia', 'Mexico', 'Ecuador', 'Venezuela', 'Chile']\n",
      "Column: experience_level\n",
      "Unique values: ['Executive', 'Mid-level', 'Entry-level', 'Senior-level']\n",
      "Column: employment_type\n",
      "Unique values: ['Contract', 'Part-time', 'Full-time']\n",
      "Column: work_setting\n",
      "Unique values: ['Remote', 'Office', 'Hybrid']\n",
      "Column: company_size\n",
      "Unique values: ['Medium (51-500 employees)', 'Large (501+ employees)', 'Small (1-50 employees)']\n"
     ]
    }
   ],
   "execution_count": 15
  },
  {
   "metadata": {},
   "cell_type": "markdown",
   "source": [
    "# Exportación del dataset trabajado\n",
    "Exportamos finalmente nuestro dataset ya procesado para que este pueda ser tomado en un próximo paso"
   ],
   "id": "b20e023e19216b76"
  },
  {
   "metadata": {
    "ExecuteTime": {
     "end_time": "2024-08-15T02:21:52.625814Z",
     "start_time": "2024-08-15T02:21:52.596538Z"
    }
   },
   "cell_type": "code",
   "source": "data.to_csv(\"./data/jobs_salary_example_clean.csv\")",
   "id": "2be359577b679f99",
   "outputs": [],
   "execution_count": 16
  }
 ],
 "metadata": {
  "kernelspec": {
   "display_name": "Python 3",
   "language": "python",
   "name": "python3"
  },
  "language_info": {
   "codemirror_mode": {
    "name": "ipython",
    "version": 2
   },
   "file_extension": ".py",
   "mimetype": "text/x-python",
   "name": "python",
   "nbconvert_exporter": "python",
   "pygments_lexer": "ipython2",
   "version": "2.7.6"
  }
 },
 "nbformat": 4,
 "nbformat_minor": 5
}
