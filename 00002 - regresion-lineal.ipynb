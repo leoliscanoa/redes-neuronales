{
 "cells": [
  {
   "metadata": {},
   "cell_type": "markdown",
   "source": [
    "# Regresión Lineal con Python\n",
    "\n",
    "## Conceptos de Regresión Lineal\n",
    "\n",
    "La **regresión lineal** es un método estadístico utilizado para modelar la relación entre una variable dependiente y una o más variables independientes mediante el ajuste de una línea recta (o hiperplano en dimensiones superiores). La ecuación de una regresión lineal simple es:\n",
    "\n",
    "$$ y = \\beta_0 + \\beta_1 x + \\epsilon $$\n",
    "\n",
    "donde:\n",
    "- \\( y \\) es la variable dependiente.\n",
    "- \\( x \\) es la variable independiente.\n",
    "- \\( \\beta_0 \\) es la intersección con el eje y.\n",
    "- \\( \\beta_1 \\) es la pendiente de la línea.\n",
    "- \\( \\epsilon \\) es el término de error.\n",
    "\n",
    "### Bibliografía\n",
    "1. \"Pattern Recognition and Machine Learning\" - Christopher M. Bishop, 2006. Springer.\n",
    "2. \"An Introduction to Statistical Learning\" - Gareth James, Daniela Witten, Trevor Hastie, Robert Tibshirani, 2013. Springer.\n"
   ],
   "id": "27d3f9069ae087fe"
  },
  {
   "metadata": {
    "ExecuteTime": {
     "end_time": "2024-05-16T22:01:50.928673Z",
     "start_time": "2024-05-16T22:01:50.921616Z"
    }
   },
   "cell_type": "code",
   "source": [
    "# En este notebook, implementaremos una regresión lineal simple (una variable independiente) desde cero.\n",
    "# Importación de Bibliotecas\n",
    "\n",
    "import numpy as np\n",
    "import matplotlib.pyplot as plt\n",
    "from sklearn.linear_model import LinearRegression\n",
    "\n",
    "# Generación de Datos\n",
    "# Generamos un conjunto de datos para ilustrar la regresión lineal.\n",
    "# Suponemos que la relación entre la variable independiente (X) y la variable dependiente (y) es lineal con algo de ruido.\n",
    "np.random.seed(0)\n",
    "N = 1000\n",
    "x = 2 * np.random.rand(N, 1)\n",
    "y = 4 + 3 * x + np.random.randn(N, 1)"
   ],
   "id": "3461ec8bfa6a06cd",
   "execution_count": 41,
   "outputs": []
  },
  {
   "metadata": {
    "ExecuteTime": {
     "end_time": "2024-05-16T21:25:57.501173Z",
     "start_time": "2024-05-16T21:25:57.297619Z"
    }
   },
   "cell_type": "code",
   "source": [
    "# Visualizamos los datos\n",
    "plt.scatter(x, y, color='blue')\n",
    "plt.xlabel('x')\n",
    "plt.ylabel('y')\n",
    "plt.title('Datos')\n",
    "plt.show()"
   ],
   "id": "2c27c5f945a4e356",
   "execution_count": 20,
   "outputs": []
  },
  {
   "metadata": {
    "ExecuteTime": {
     "end_time": "2024-05-16T22:04:49.613730Z",
     "start_time": "2024-05-16T22:04:49.591604Z"
    }
   },
   "cell_type": "code",
   "source": [
    "# Modelo, entrenamiento y predicciones\n",
    "model = LinearRegression()\n",
    "model.fit(x, y)\n",
    "y_pred = model.predict(x)"
   ],
   "id": "23ffbfc16480e6b8",
   "execution_count": 42,
   "outputs": []
  },
  {
   "metadata": {
    "ExecuteTime": {
     "end_time": "2024-05-16T22:27:07.145106Z",
     "start_time": "2024-05-16T22:27:06.879094Z"
    }
   },
   "cell_type": "code",
   "source": [
    "# Visualización\n",
    "plt.scatter(x, y, color='blue', label='Datos reales')\n",
    "plt.plot(x, y_pred, color='red', label='Predicción')\n",
    "plt.xlabel('x')\n",
    "plt.ylabel('y')\n",
    "plt.title('Regresión Lineal')\n",
    "plt.legend()\n",
    "plt.show()"
   ],
   "id": "e969a9c677099666",
   "execution_count": 47,
   "outputs": []
  }
 ],
 "metadata": {
  "kernelspec": {
   "display_name": "Python 3",
   "language": "python",
   "name": "python3"
  },
  "language_info": {
   "codemirror_mode": {
    "name": "ipython",
    "version": 2
   },
   "file_extension": ".py",
   "mimetype": "text/x-python",
   "name": "python",
   "nbconvert_exporter": "python",
   "pygments_lexer": "ipython2",
   "version": "2.7.6"
  }
 },
 "nbformat": 4,
 "nbformat_minor": 5
}
