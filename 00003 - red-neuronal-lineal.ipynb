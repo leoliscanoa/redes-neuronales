{
 "cells": [
  {
   "metadata": {},
   "cell_type": "markdown",
   "source": [
    "# Función lineal\n",
    "\n",
    "Tiene la forma de $$f(x)=mx + b$$"
   ],
   "id": "156b6a31cfdc3916"
  },
  {
   "metadata": {},
   "cell_type": "markdown",
   "source": "# Programación convencional",
   "id": "7381651407f09f5d"
  },
  {
   "metadata": {
    "ExecuteTime": {
     "end_time": "2024-05-04T17:54:44.798009Z",
     "start_time": "2024-05-04T17:54:44.629910Z"
    }
   },
   "cell_type": "code",
   "source": [
    "import numpy as np\n",
    "import matplotlib.pyplot as plt\n",
    "# Variables\n",
    "m = 2/5\n",
    "b = 10\n",
    "N = 50\n",
    "\n",
    "# Definimos la función\n",
    "def f(a):\n",
    "    return m*a + b\n",
    "# Definimos las variables\n",
    "x = np.linspace(-100, 100, N)\n",
    "# Obtenemos los resultados al aplicar la función f(x)\n",
    "y = f(x)\n",
    "# Grafiquemos lo obtenido\n",
    "fig, ax = plt.subplots()\n",
    "plt.xlabel(\"x\")\n",
    "plt.ylabel(\"f(x)\")\n",
    "ax.plot(x, y)\n",
    "ax.grid(True)"
   ],
   "id": "1e384a1225c45024",
   "execution_count": 9,
   "outputs": []
  },
  {
   "metadata": {},
   "cell_type": "markdown",
   "source": "# Redes neuronales",
   "id": "e114779ab0849a77"
  },
  {
   "metadata": {
    "ExecuteTime": {
     "end_time": "2024-05-04T18:00:16.565612Z",
     "start_time": "2024-05-04T18:00:15.408395Z"
    }
   },
   "cell_type": "code",
   "source": [
    "import tensorflow as tf\n",
    "# Definimos el modelo\n",
    "modelo = tf.keras.Sequential([\n",
    "    tf.keras.layers.Dense(units=1, input_shape=[1])\n",
    "])\n",
    "\n",
    "# Compilamos el modelo\n",
    "modelo.compile(loss=tf.keras.losses.mean_squared_error,\n",
    "               optimizer=tf.keras.optimizers.Adam(0.1),\n",
    "               metrics=['accuracy'])\n",
    "\n",
    "# Entrenamos el modelo con solamente los datos de entrada y salida para dejar que la red neuronal adapte sus pesos y sesgos\n",
    "print(\"Training model...\")\n",
    "historial = modelo.fit(x, y, epochs=200, verbose=0)\n",
    "print(\"Model trained...\")\n",
    "# Veamos la función de costo\n",
    "plt.title(\"Cost\")\n",
    "plt.xlabel(\"Rounds\")\n",
    "plt.ylabel(\"Loss\")\n",
    "plt.plot(historial.history['loss'])"
   ],
   "id": "e718ba3f30180d61",
   "execution_count": 15,
   "outputs": []
  },
  {
   "metadata": {
    "ExecuteTime": {
     "end_time": "2024-05-04T17:55:38.913328Z",
     "start_time": "2024-05-04T17:55:38.798181Z"
    }
   },
   "cell_type": "code",
   "source": [
    "# Hacemos una predicción\n",
    "print(\"Predicting values\")\n",
    "resultado = modelo.predict([150])\n",
    "print(resultado)"
   ],
   "id": "c387463fc587f84a",
   "execution_count": 12,
   "outputs": []
  },
  {
   "metadata": {
    "ExecuteTime": {
     "end_time": "2024-05-04T17:56:00.645046Z",
     "start_time": "2024-05-04T17:56:00.634187Z"
    }
   },
   "cell_type": "code",
   "source": [
    "# Validamos el peso y el sesgo al cual nuestra red neuronal logro ajustarse\n",
    "print(\"Variables\")\n",
    "print(modelo.get_weights())"
   ],
   "id": "2614d80be0fd6937",
   "execution_count": 13,
   "outputs": []
  }
 ],
 "metadata": {
  "kernelspec": {
   "display_name": "Python 3",
   "language": "python",
   "name": "python3"
  },
  "language_info": {
   "codemirror_mode": {
    "name": "ipython",
    "version": 2
   },
   "file_extension": ".py",
   "mimetype": "text/x-python",
   "name": "python",
   "nbconvert_exporter": "python",
   "pygments_lexer": "ipython2",
   "version": "2.7.6"
  }
 },
 "nbformat": 4,
 "nbformat_minor": 5
}
