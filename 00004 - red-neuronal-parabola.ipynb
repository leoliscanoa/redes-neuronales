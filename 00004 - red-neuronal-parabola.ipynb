{
 "cells": [
  {
   "metadata": {},
   "cell_type": "markdown",
   "source": [
    "# Función cuadrática\n",
    "\n",
    "Tiene la forma de $$f(x)=ax^2 + bx + c$$"
   ],
   "id": "2078b7a67e9d3c54"
  },
  {
   "metadata": {},
   "cell_type": "markdown",
   "source": "# Programación convencional",
   "id": "1787c6f843e3fd45"
  },
  {
   "metadata": {
    "ExecuteTime": {
     "end_time": "2024-05-07T14:52:53.559862Z",
     "start_time": "2024-05-07T14:52:52.968857Z"
    }
   },
   "cell_type": "code",
   "source": [
    "import numpy as np\n",
    "import matplotlib.pyplot as plt\n",
    "# Variables\n",
    "a = 1\n",
    "b = -3\n",
    "c = 7\n",
    "N = 100\n",
    "\n",
    "# Definimos la función\n",
    "def f(t):\n",
    "    return a*t*t + b*t + c\n",
    "# Definimos las variables\n",
    "x = np.linspace(-100, 100, N)\n",
    "# Obtenemos los resultados al aplicar la función f(x)\n",
    "y = f(x)\n",
    "# Grafiquemos lo obtenido\n",
    "fig, ax = plt.subplots()\n",
    "plt.xlabel(\"x\")\n",
    "plt.ylabel(\"f(x)\")\n",
    "ax.plot(x, y)\n",
    "ax.grid(True)"
   ],
   "id": "640418be5f100c99",
   "execution_count": 1,
   "outputs": []
  },
  {
   "metadata": {},
   "cell_type": "markdown",
   "source": "# Redes neuronales",
   "id": "136ae0c6671ef74"
  },
  {
   "metadata": {
    "ExecuteTime": {
     "end_time": "2024-05-07T14:55:34.193014Z",
     "start_time": "2024-05-07T14:55:12.818213Z"
    }
   },
   "cell_type": "code",
   "source": [
    "import tensorflow as tf\n",
    "# Definimos el modelo\n",
    "modelo = tf.keras.Sequential([\n",
    "    tf.keras.layers.Dense(units=64, input_shape=[1], activation=tf.keras.activations.relu),\n",
    "    tf.keras.layers.Dense(units=64, activation=tf.keras.activations.relu),\n",
    "    tf.keras.layers.Dense(units=1)\n",
    "])\n",
    "\n",
    "# Compilamos el modelo\n",
    "modelo.compile(loss=tf.keras.losses.mean_squared_logarithmic_error, \n",
    "               optimizer=tf.keras.optimizers.Adam(0.1),\n",
    "               metrics=['accuracy'])\n",
    "\n",
    "# Entrenamos el modelo con solamente los datos de entrada y salida para dejar que la red neuronal adapte sus pesos y sesgos\n",
    "print(\"Training model...\")\n",
    "historial = modelo.fit(x, y, epochs=1000, verbose=0)\n",
    "print(\"Model trained...\")\n",
    "# Veamos la función de costo\n",
    "plt.title(\"Cost\")\n",
    "plt.xlabel(\"Rounds\")\n",
    "plt.ylabel(\"Loss\")\n",
    "plt.plot(historial.history['loss'])"
   ],
   "id": "a7154269735d553d",
   "execution_count": 7,
   "outputs": []
  },
  {
   "metadata": {
    "ExecuteTime": {
     "end_time": "2024-05-07T14:55:41.356738Z",
     "start_time": "2024-05-07T14:55:40.939431Z"
    }
   },
   "cell_type": "code",
   "source": [
    "# Validemos la predicción del modelo para el rango de valores de x\n",
    "print(\"Predicting values\")\n",
    "resultado = modelo.predict(x)\n",
    "# Grafiquemos lo obtenido\n",
    "fig, ax = plt.subplots()\n",
    "plt.xlabel(\"x\")\n",
    "ax.plot(x, y, color='blue', label='f(x)')\n",
    "ax.plot(x, resultado, color='red', label='modelo(x)')\n",
    "ax.grid(True)\n",
    "plt.legend()"
   ],
   "id": "2ea873c7d93002e9",
   "execution_count": 8,
   "outputs": []
  },
  {
   "metadata": {},
   "cell_type": "code",
   "source": "",
   "id": "a05d3202e5076318",
   "execution_count": null,
   "outputs": []
  }
 ],
 "metadata": {
  "kernelspec": {
   "display_name": "Python 3",
   "language": "python",
   "name": "python3"
  },
  "language_info": {
   "codemirror_mode": {
    "name": "ipython",
    "version": 2
   },
   "file_extension": ".py",
   "mimetype": "text/x-python",
   "name": "python",
   "nbconvert_exporter": "python",
   "pygments_lexer": "ipython2",
   "version": "2.7.6"
  }
 },
 "nbformat": 4,
 "nbformat_minor": 5
}
